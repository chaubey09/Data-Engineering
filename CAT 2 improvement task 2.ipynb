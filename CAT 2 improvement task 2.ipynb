{
  "nbformat": 4,
  "nbformat_minor": 0,
  "metadata": {
    "colab": {
      "provenance": []
    },
    "kernelspec": {
      "name": "python3",
      "display_name": "Python 3"
    },
    "language_info": {
      "name": "python"
    }
  },
  "cells": [
    {
      "cell_type": "markdown",
      "source": [
        "# **ANMOL CHAUBEY 24MAI0111**"
      ],
      "metadata": {
        "id": "AemIRvoJHXnH"
      }
    },
    {
      "cell_type": "markdown",
      "source": [
        "For completing this task I have taken the dataset which contains the view of customer experiences, providing valuable insights for product improvement, marketing strategies, and customer relationship management."
      ],
      "metadata": {
        "id": "CDNCwUqxHeLp"
      }
    },
    {
      "cell_type": "markdown",
      "source": [
        "1.) Importing the required libraries"
      ],
      "metadata": {
        "id": "nirqE6UgIZ5D"
      }
    },
    {
      "cell_type": "code",
      "execution_count": 54,
      "metadata": {
        "id": "n_qpr0aTp1cc"
      },
      "outputs": [],
      "source": [
        "import pandas as pd\n",
        "from pyspark.sql import SparkSession\n",
        "from pyspark.sql import functions as F\n",
        "from pyspark.sql.types import DoubleType\n",
        "import seaborn as sns\n",
        "import matplotlib.pyplot as plt\n",
        "from textblob import TextBlob"
      ]
    },
    {
      "cell_type": "markdown",
      "source": [
        "2.) Create a Spark session"
      ],
      "metadata": {
        "id": "BGCKnBRGIpvD"
      }
    },
    {
      "cell_type": "code",
      "source": [
        "spark = SparkSession.builder \\\n",
        "    .appName(\"Customer Feedback Analysis\") \\\n",
        "    .getOrCreate()"
      ],
      "metadata": {
        "id": "aEZu2L-5p8_4"
      },
      "execution_count": 55,
      "outputs": []
    },
    {
      "cell_type": "markdown",
      "source": [
        "#3.) Data Ingestion"
      ],
      "metadata": {
        "id": "i7OBmwOFIsJk"
      }
    },
    {
      "cell_type": "markdown",
      "source": [
        "Load data from CSV"
      ],
      "metadata": {
        "id": "NH_Ts8fCI6vd"
      }
    },
    {
      "cell_type": "code",
      "source": [
        "feedback_df = spark.read.csv(\"sentiment.csv\", header=True, inferSchema=True)"
      ],
      "metadata": {
        "id": "zv7Zk9E1qDwm"
      },
      "execution_count": 56,
      "outputs": []
    },
    {
      "cell_type": "markdown",
      "source": [
        "Show the schema of the DataFrame"
      ],
      "metadata": {
        "id": "ALBpO8biJGYu"
      }
    },
    {
      "cell_type": "code",
      "source": [
        "feedback_df.printSchema()"
      ],
      "metadata": {
        "colab": {
          "base_uri": "https://localhost:8080/"
        },
        "id": "gEdwjfXIs42z",
        "outputId": "9854d270-027e-4d44-eebf-450a5111512e"
      },
      "execution_count": 57,
      "outputs": [
        {
          "output_type": "stream",
          "name": "stdout",
          "text": [
            "root\n",
            " |-- Review Title: string (nullable = true)\n",
            " |-- Customer name: string (nullable = true)\n",
            " |-- Rating: integer (nullable = true)\n",
            " |-- Date: date (nullable = true)\n",
            " |-- Category: string (nullable = true)\n",
            " |-- Comments: string (nullable = true)\n",
            " |-- Useful: integer (nullable = true)\n",
            "\n"
          ]
        }
      ]
    },
    {
      "cell_type": "markdown",
      "source": [
        " Data Cleaning"
      ],
      "metadata": {
        "id": "0VZt-Xb0JIRx"
      }
    },
    {
      "cell_type": "code",
      "source": [
        "\n",
        "def clean_comment(comment):\n",
        "    if comment:\n",
        "        return comment.replace('\\n', ' ').strip()\n",
        "    return \"\""
      ],
      "metadata": {
        "id": "c-oa-6Q_qJ9E"
      },
      "execution_count": 58,
      "outputs": []
    },
    {
      "cell_type": "markdown",
      "source": [
        "Register the UDF for cleaning comments"
      ],
      "metadata": {
        "id": "RdGrmzOrJQAT"
      }
    },
    {
      "cell_type": "code",
      "source": [
        "clean_comment_udf = F.udf(clean_comment)"
      ],
      "metadata": {
        "id": "Lh6tuFius-95"
      },
      "execution_count": 59,
      "outputs": []
    },
    {
      "cell_type": "markdown",
      "source": [
        "Clean comments in the DataFrame"
      ],
      "metadata": {
        "id": "zLb9rvofJTA2"
      }
    },
    {
      "cell_type": "code",
      "source": [
        "cleaned_feedback_df = feedback_df.withColumn(\"Cleaned_Comment\", clean_comment_udf(F.col(\"Comments\")))\n"
      ],
      "metadata": {
        "id": "XFWUxMTMqOmD"
      },
      "execution_count": 60,
      "outputs": []
    },
    {
      "cell_type": "markdown",
      "source": [
        "Sentiment Analysis"
      ],
      "metadata": {
        "id": "0jlrcBj1JWiF"
      }
    },
    {
      "cell_type": "code",
      "source": [
        "def analyze_sentiment(comment):\n",
        "    analysis = TextBlob(comment)\n",
        "    if analysis.sentiment.polarity > 0:\n",
        "        return \"Positive\"\n",
        "    elif analysis.sentiment.polarity < 0:\n",
        "        return \"Negative\"\n",
        "    else:\n",
        "        return \"Neutral\""
      ],
      "metadata": {
        "id": "BlaKmtwTqQ3w"
      },
      "execution_count": 61,
      "outputs": []
    },
    {
      "cell_type": "markdown",
      "source": [
        "Register the UDF for sentiment analysis"
      ],
      "metadata": {
        "id": "tcSYTAPTJZNO"
      }
    },
    {
      "cell_type": "code",
      "source": [
        "analyze_sentiment_udf = F.udf(analyze_sentiment)"
      ],
      "metadata": {
        "id": "okKOV1d5tJmZ"
      },
      "execution_count": 62,
      "outputs": []
    },
    {
      "cell_type": "markdown",
      "source": [
        "Analyze sentiment and create a new column"
      ],
      "metadata": {
        "id": "JAGXmevhJbMx"
      }
    },
    {
      "cell_type": "code",
      "source": [
        "sentiment_distribution_df = cleaned_feedback_df.withColumn(\"Sentiment\", analyze_sentiment_udf(F.col(\"Cleaned_Comment\")))"
      ],
      "metadata": {
        "id": "Do7dbWo4tKAa"
      },
      "execution_count": 63,
      "outputs": []
    },
    {
      "cell_type": "markdown",
      "source": [
        "Ensure Rating column is of type Double"
      ],
      "metadata": {
        "id": "f929Xmn5Jfp8"
      }
    },
    {
      "cell_type": "code",
      "source": [
        "sentiment_distribution_df = sentiment_distribution_df.withColumn(\"Rating\", F.col(\"Rating\").cast(DoubleType()))"
      ],
      "metadata": {
        "id": "QIb5pRrNtLm_"
      },
      "execution_count": 64,
      "outputs": []
    },
    {
      "cell_type": "markdown",
      "source": [
        " Trend Analysis\n"
      ],
      "metadata": {
        "id": "UXDtUN4DJiZ_"
      }
    },
    {
      "cell_type": "markdown",
      "source": [
        "Feedback trends over time"
      ],
      "metadata": {
        "id": "5CsXn3pCJoI6"
      }
    },
    {
      "cell_type": "code",
      "source": [
        "trend_data = sentiment_distribution_df.groupBy(F.to_date(F.col(\"Date\")).alias(\"Date\")).agg(F.count(\"Customer name\").alias(\"Feedback_Count\"))\n",
        "trend_data_pd = trend_data.toPandas()"
      ],
      "metadata": {
        "id": "9pC0iI_4tNmZ"
      },
      "execution_count": 65,
      "outputs": []
    },
    {
      "cell_type": "markdown",
      "source": [
        "Average ratings per category"
      ],
      "metadata": {
        "id": "9y_0HVdLJqiR"
      }
    },
    {
      "cell_type": "code",
      "source": [
        "avg_rating_per_category = sentiment_distribution_df.groupBy(\"Category\").agg(F.avg(\"Rating\").alias(\"Average_Rating\"))\n",
        "avg_rating_per_category_pd = avg_rating_per_category.toPandas()\n"
      ],
      "metadata": {
        "id": "vnoEgU5QHBDJ"
      },
      "execution_count": 66,
      "outputs": []
    },
    {
      "cell_type": "markdown",
      "source": [
        "Check if the DataFrames have any data before printing"
      ],
      "metadata": {
        "id": "SHqSWN9JJtH4"
      }
    },
    {
      "cell_type": "code",
      "source": [
        "if not avg_rating_per_category_pd.empty:\n",
        "    print(\"Average Ratings DataFrame:\\n\", avg_rating_per_category_pd)\n",
        "else:\n",
        "    print(\"No data available in Average Ratings DataFrame.\")\n",
        "\n",
        "if not trend_data_pd.empty:\n",
        "    print(\"Trend Data DataFrame:\\n\", trend_data_pd)\n",
        "else:\n",
        "    print(\"No data available in Trend Data DataFrame.\")"
      ],
      "metadata": {
        "colab": {
          "base_uri": "https://localhost:8080/"
        },
        "id": "iZTX-MittaZo",
        "outputId": "70950579-ca85-4c68-d118-be62778b618b"
      },
      "execution_count": 67,
      "outputs": [
        {
          "output_type": "stream",
          "name": "stdout",
          "text": [
            "Average Ratings DataFrame:\n",
            "       Category  Average_Rating\n",
            "0  Electronics        3.571429\n",
            "1  Accessories        3.666667\n",
            "Trend Data DataFrame:\n",
            "          Date  Feedback_Count\n",
            "0  2023-01-11               1\n",
            "1  2023-01-12               1\n",
            "2  2023-01-13               1\n",
            "3  2023-01-14               1\n",
            "4  2023-01-16               1\n",
            "5  2023-01-15               1\n",
            "6  2023-01-10               1\n",
            "7  2023-01-17               1\n",
            "8  2023-01-18               1\n",
            "9  2023-01-19               1\n"
          ]
        }
      ]
    },
    {
      "cell_type": "markdown",
      "source": [
        "Data Visualization\n"
      ],
      "metadata": {
        "id": "u-q0ZwC7JwI4"
      }
    },
    {
      "cell_type": "code",
      "source": [
        "def visualize_sentiment_distribution(sentiment_df):\n",
        "    plt.figure(figsize=(10, 6))\n",
        "    sns.countplot(data=sentiment_df.toPandas(), x='Sentiment', palette='Set2')\n",
        "    plt.title(\"Sentiment Distribution\")\n",
        "    plt.xlabel(\"Sentiment\")\n",
        "    plt.ylabel(\"Count\")\n",
        "    plt.show()"
      ],
      "metadata": {
        "id": "Bv7aamLOHHa1"
      },
      "execution_count": 68,
      "outputs": []
    },
    {
      "cell_type": "code",
      "source": [
        "def visualize_average_ratings(avg_rating_df):\n",
        "    plt.figure(figsize=(10, 6))\n",
        "    sns.barplot(data=avg_rating_df, x='Category', y='Average_Rating', palette='Set2')\n",
        "    plt.title(\"Average Ratings per Category\")\n",
        "    plt.xlabel(\"Category\")\n",
        "    plt.ylabel(\"Average Rating\")\n",
        "    plt.xticks(rotation=45)\n",
        "    plt.show()"
      ],
      "metadata": {
        "id": "IbQyI3DFHJDC"
      },
      "execution_count": 69,
      "outputs": []
    },
    {
      "cell_type": "code",
      "source": [
        "def visualize_trends_over_time(trend_df):\n",
        "    plt.figure(figsize=(10, 6))\n",
        "    sns.lineplot(data=trend_df, x='Date', y='Feedback_Count', marker='o')\n",
        "    plt.title(\"Feedback Trends Over Time\")\n",
        "    plt.xlabel(\"Date\")\n",
        "    plt.ylabel(\"Feedback Count\")\n",
        "    plt.xticks(rotation=45)\n",
        "    plt.show()"
      ],
      "metadata": {
        "id": "LI108B5FHK2E"
      },
      "execution_count": 70,
      "outputs": []
    },
    {
      "cell_type": "markdown",
      "source": [
        "Generate visualizations"
      ],
      "metadata": {
        "id": "n_uGKgkGJz7W"
      }
    },
    {
      "cell_type": "code",
      "source": [
        "visualize_sentiment_distribution(sentiment_distribution_df)\n",
        "visualize_average_ratings(avg_rating_per_category_pd)\n",
        "visualize_trends_over_time(trend_data_pd)"
      ],
      "metadata": {
        "colab": {
          "base_uri": "https://localhost:8080/",
          "height": 1000
        },
        "id": "5LYxp6y7HMo-",
        "outputId": "fc7c0c68-5df9-4a23-978b-032cad26fd9d"
      },
      "execution_count": 71,
      "outputs": [
        {
          "output_type": "stream",
          "name": "stderr",
          "text": [
            "<ipython-input-68-8ab3fee53020>:3: FutureWarning: \n",
            "\n",
            "Passing `palette` without assigning `hue` is deprecated and will be removed in v0.14.0. Assign the `x` variable to `hue` and set `legend=False` for the same effect.\n",
            "\n",
            "  sns.countplot(data=sentiment_df.toPandas(), x='Sentiment', palette='Set2')\n"
          ]
        },
        {
          "output_type": "display_data",
          "data": {
            "text/plain": [
              "<Figure size 1000x600 with 1 Axes>"
            ],
            "image/png": "[encoded data removed]"
          },
          "metadata": {}
        },
        {
          "output_type": "stream",
          "name": "stderr",
          "text": [
            "<ipython-input-69-9d5bad8bb14d>:3: FutureWarning: \n",
            "\n",
            "Passing `palette` without assigning `hue` is deprecated and will be removed in v0.14.0. Assign the `x` variable to `hue` and set `legend=False` for the same effect.\n",
            "\n",
            "  sns.barplot(data=avg_rating_df, x='Category', y='Average_Rating', palette='Set2')\n"
          ]
        },
        {
          "output_type": "display_data",
          "data": {
            "text/plain": [
              "<Figure size 1000x600 with 1 Axes>"
            ],
            "image/png": "[encoded data removed]"
          },
          "metadata": {}
        },
        {
          "output_type": "display_data",
          "data": {
            "text/plain": [
              "<Figure size 1000x600 with 1 Axes>"
            ],
            "image/png": "[encoded data removed]"
          },
          "metadata": {}
        }
      ]
    },
    {
      "cell_type": "markdown",
      "source": [
        "Stop the Spark session"
      ],
      "metadata": {
        "id": "rTrBD3kAKiOb"
      }
    },
    {
      "cell_type": "code",
      "source": [
        "spark.stop()"
      ],
      "metadata": {
        "id": "QylZMCmxHP91"
      },
      "execution_count": 52,
      "outputs": []
    },
    {
      "cell_type": "code",
      "source": [],
      "metadata": {
        "id": "37c3WYLoHVmJ"
      },
      "execution_count": null,
      "outputs": []
    }
  ]
}